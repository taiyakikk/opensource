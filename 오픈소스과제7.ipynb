{
  "nbformat": 4,
  "nbformat_minor": 0,
  "metadata": {
    "colab": {
      "provenance": []
    },
    "kernelspec": {
      "name": "python3",
      "display_name": "Python 3"
    },
    "language_info": {
      "name": "python"
    }
  },
  "cells": [
    {
      "cell_type": "code",
      "execution_count": 15,
      "metadata": {
        "id": "dWWsRpNJNYNb"
      },
      "outputs": [],
      "source": [
        "from abc import ABC, abstractmethod\n",
        "from collections import namedtuple\n",
        "\n",
        "Customer = namedtuple('Customer', 'name fidelity')"
      ]
    },
    {
      "cell_type": "code",
      "source": [
        "park = Customer('Park', 100)\n",
        "park"
      ],
      "metadata": {
        "colab": {
          "base_uri": "https://localhost:8080/"
        },
        "id": "yBL0gjAzN3Pe",
        "outputId": "d1e1b678-ce6b-4174-9cb4-2573743f1d8e"
      },
      "execution_count": 2,
      "outputs": [
        {
          "output_type": "execute_result",
          "data": {
            "text/plain": [
              "Customer(name='Park', fidelity=100)"
            ]
          },
          "metadata": {},
          "execution_count": 2
        }
      ]
    },
    {
      "cell_type": "code",
      "source": [
        "class LineItem:\n",
        "  def __init__(self, product, quantity, price):\n",
        "    self.product = product\n",
        "    self.quantity = quantity\n",
        "    self.price = price\n",
        "\n",
        "  def total(self):\n",
        "    return self.price * self.quantity"
      ],
      "metadata": {
        "id": "V1KM8dbBN7cM"
      },
      "execution_count": 3,
      "outputs": []
    },
    {
      "cell_type": "code",
      "source": [
        "class Order:\n",
        "  def __init__(self, customer, cart, promotion=None):\n",
        "    self.customer = customer\n",
        "    self.cart = list(cart)\n",
        "    self.promotion = promotion\n",
        "\n",
        "  def total(self):\n",
        "    if not hasattr(self, '__total'):\n",
        "      self.__total = sum(item.total() for item in self.cart)\n",
        "    return self.__total\n",
        "\n",
        "  def due(self):\n",
        "    if self.promotion is None:\n",
        "      discount = 0\n",
        "    else:\n",
        "      discount = self.promotion.discount(self)\n",
        "    return self.total() - discount\n",
        "\n",
        "  def __repr__(self):\n",
        "    fmt = '<Order total: {:.2f} due: {:.2f}>'\n",
        "    return fmt.format(self.total(), self.due())"
      ],
      "metadata": {
        "id": "mepGpggjPIeU"
      },
      "execution_count": 18,
      "outputs": []
    },
    {
      "cell_type": "code",
      "source": [
        "class Promotion(ABC):\n",
        "  @abstractmethod\n",
        "  def iscount(self, order):\n",
        "    pass"
      ],
      "metadata": {
        "id": "nysmrHrmPJG9"
      },
      "execution_count": 5,
      "outputs": []
    },
    {
      "cell_type": "code",
      "source": [
        "class Promotion(ABC):\n",
        "  @abstractmethod\n",
        "  def discount(self, order):\n",
        "    pass\n",
        "\n",
        "class Fidelitypromo(Promotion):\n",
        "  def discount(self, order):\n",
        "    return order.total() * 0.05 if order.customer.fidelity >= 1000 else 0\n",
        "\n",
        "class BulkItemProme(Promotion):\n",
        "  def discount(self, order):\n",
        "    discount = 0\n",
        "    for item in order.cart:\n",
        "      if item.quantity >= 20:\n",
        "        discount += item.total() * 0.1\n",
        "    return discount\n",
        "\n",
        "class LargeOrderPromo(Promotion):\n",
        "  def discount(self, order):\n",
        "    distinct_items = {item.product for item in order.cart}\n",
        "    if len(distinct_items) >= 10:\n",
        "      return order.total() * 0.07\n",
        "    return 0"
      ],
      "metadata": {
        "id": "AMdscjtkP-RF"
      },
      "execution_count": 16,
      "outputs": []
    },
    {
      "cell_type": "code",
      "source": [
        "joe = Customer('John Doe', 0)\n",
        "ann = Customer('Ann Smith', 1100)\n",
        "cart = [LineItem('banana', 4, .5),\n",
        "        LineItem('apple', 10, 1.5),\n",
        "        LineItem('watermellon', 5, 5.0)]"
      ],
      "metadata": {
        "id": "PTOykXaGP_OM"
      },
      "execution_count": 7,
      "outputs": []
    },
    {
      "cell_type": "code",
      "source": [
        "Order(joe, cart, Fidelitypromo())"
      ],
      "metadata": {
        "colab": {
          "base_uri": "https://localhost:8080/"
        },
        "id": "lIsTQUmRZonJ",
        "outputId": "8d500936-3abd-45c8-fb79-b2f1767f6973"
      },
      "execution_count": 19,
      "outputs": [
        {
          "output_type": "execute_result",
          "data": {
            "text/plain": [
              "<Order total: 42.00 due: 42.00>"
            ]
          },
          "metadata": {},
          "execution_count": 19
        }
      ]
    },
    {
      "cell_type": "code",
      "source": [
        "Order(ann, cart, Fidelitypromo())"
      ],
      "metadata": {
        "colab": {
          "base_uri": "https://localhost:8080/"
        },
        "id": "jAdymkUoZt3g",
        "outputId": "62c3e793-ea13-4db7-9132-1c5901b11c35"
      },
      "execution_count": 20,
      "outputs": [
        {
          "output_type": "execute_result",
          "data": {
            "text/plain": [
              "<Order total: 42.00 due: 39.90>"
            ]
          },
          "metadata": {},
          "execution_count": 20
        }
      ]
    },
    {
      "cell_type": "code",
      "source": [
        "banana_cart = [LineItem('banana', 30, .5),\n",
        "              LineItem('apple', 10, 1.5)]\n",
        "Order(joe, banana_cart, BulkItemProme())"
      ],
      "metadata": {
        "colab": {
          "base_uri": "https://localhost:8080/"
        },
        "id": "3cFzt_XRdXP0",
        "outputId": "26cfdba1-7508-4091-f283-6a23a83f0e45"
      },
      "execution_count": 22,
      "outputs": [
        {
          "output_type": "execute_result",
          "data": {
            "text/plain": [
              "<Order total: 30.00 due: 28.50>"
            ]
          },
          "metadata": {},
          "execution_count": 22
        }
      ]
    },
    {
      "cell_type": "code",
      "source": [
        "long_order = [LineItem(str(item_code), 1, 1.0) for item_code in range(10)]\n",
        "Order(joe, long_order, LargeOrderPromo())"
      ],
      "metadata": {
        "colab": {
          "base_uri": "https://localhost:8080/"
        },
        "id": "tLBWXr6jdc6p",
        "outputId": "1ee1af82-43ea-4182-9c76-f89fd15fba58"
      },
      "execution_count": 24,
      "outputs": [
        {
          "output_type": "execute_result",
          "data": {
            "text/plain": [
              "<Order total: 10.00 due: 9.30>"
            ]
          },
          "metadata": {},
          "execution_count": 24
        }
      ]
    },
    {
      "cell_type": "code",
      "source": [
        "Order(joe, cart, LargeOrderPromo())"
      ],
      "metadata": {
        "colab": {
          "base_uri": "https://localhost:8080/"
        },
        "id": "Uuip4wzTdeO5",
        "outputId": "d5f15612-9ccd-4018-b536-c479153cce90"
      },
      "execution_count": 26,
      "outputs": [
        {
          "output_type": "execute_result",
          "data": {
            "text/plain": [
              "<Order total: 42.00 due: 42.00>"
            ]
          },
          "metadata": {},
          "execution_count": 26
        }
      ]
    },
    {
      "cell_type": "code",
      "source": [
        "class Order:\n",
        "  def __init__(self, customer, cart, promotion=None):\n",
        "    self.customer = customer\n",
        "    self.cart = list(cart)\n",
        "    self.promotion = promotion\n",
        "\n",
        "  def total(self):\n",
        "    if not hasattr(self, '__total'):\n",
        "      self.__total = sum(item.total() for item in self.cart)\n",
        "    return self.__total\n",
        "\n",
        "  def due(self):\n",
        "    if self.promotion is None:\n",
        "      discount = 0\n",
        "    else:\n",
        "      discount = self.promotion(self)\n",
        "    return self.total() - discount\n",
        "\n",
        "  def __repr__(self):\n",
        "    fmt = '<Order total: {:.2f} due: {:.2f}>'\n",
        "    return fmt.format(self.total(), self.due())"
      ],
      "metadata": {
        "id": "1IV0X_XMdvoz"
      },
      "execution_count": 27,
      "outputs": []
    },
    {
      "cell_type": "code",
      "source": [
        "def fidelity_promo(order):\n",
        "  return order.total() * 0.05 if order.customer.fidelity >= 1000 else 0\n",
        "\n",
        "def bulk_item_promo(order):\n",
        "  discount = 0\n",
        "  for item in order.cart:\n",
        "    if item.quantity >= 20:\n",
        "      discount += item.total() * 0.1\n",
        "  return discount\n",
        "\n",
        "def large_order_promo(order):\n",
        "  distinct_items = {item.product for item in order.cart}\n",
        "  if len(distinct_items) >= 10:\n",
        "    return order.total() * 0.07\n",
        "  return 0"
      ],
      "metadata": {
        "id": "zuXqnTQNd3Vy"
      },
      "execution_count": 28,
      "outputs": []
    },
    {
      "cell_type": "code",
      "source": [
        "Order(joe, cart, fidelity_promo)"
      ],
      "metadata": {
        "colab": {
          "base_uri": "https://localhost:8080/"
        },
        "id": "267XxA25d3qq",
        "outputId": "2ac89475-5016-49ef-cf98-f2fc071cc873"
      },
      "execution_count": 29,
      "outputs": [
        {
          "output_type": "execute_result",
          "data": {
            "text/plain": [
              "<Order total: 42.00 due: 42.00>"
            ]
          },
          "metadata": {},
          "execution_count": 29
        }
      ]
    },
    {
      "cell_type": "code",
      "source": [
        "Order(ann, cart, fidelity_promo)"
      ],
      "metadata": {
        "colab": {
          "base_uri": "https://localhost:8080/"
        },
        "id": "lxBkP2jOd6qq",
        "outputId": "75ca0f89-8ce1-4013-f58d-93048b32bd01"
      },
      "execution_count": 30,
      "outputs": [
        {
          "output_type": "execute_result",
          "data": {
            "text/plain": [
              "<Order total: 42.00 due: 39.90>"
            ]
          },
          "metadata": {},
          "execution_count": 30
        }
      ]
    },
    {
      "cell_type": "code",
      "source": [
        "Order(joe, banana_cart, bulk_item_promo)"
      ],
      "metadata": {
        "colab": {
          "base_uri": "https://localhost:8080/"
        },
        "id": "A7gC7uMed-e5",
        "outputId": "d10153d9-a935-4dcc-a603-510395a8949f"
      },
      "execution_count": 31,
      "outputs": [
        {
          "output_type": "execute_result",
          "data": {
            "text/plain": [
              "<Order total: 30.00 due: 28.50>"
            ]
          },
          "metadata": {},
          "execution_count": 31
        }
      ]
    },
    {
      "cell_type": "code",
      "source": [
        "Order(ann, long_order, large_order_promo)"
      ],
      "metadata": {
        "colab": {
          "base_uri": "https://localhost:8080/"
        },
        "id": "ov4FSA7XeBrp",
        "outputId": "a8013fbf-bbb5-4cdb-c0e3-ab73a79159c7"
      },
      "execution_count": 32,
      "outputs": [
        {
          "output_type": "execute_result",
          "data": {
            "text/plain": [
              "<Order total: 10.00 due: 9.30>"
            ]
          },
          "metadata": {},
          "execution_count": 32
        }
      ]
    },
    {
      "cell_type": "code",
      "source": [
        "promos = [fidelity_promo, bulk_item_promo, large_order_promo]\n",
        "\n",
        "def best_promo(order):\n",
        "  return max(promo(order) for promo in promos)"
      ],
      "metadata": {
        "id": "Ikoeei_reNYZ"
      },
      "execution_count": 35,
      "outputs": []
    },
    {
      "cell_type": "code",
      "source": [
        "Order(joe, cart, best_promo)"
      ],
      "metadata": {
        "colab": {
          "base_uri": "https://localhost:8080/"
        },
        "id": "TFhU79wOeNnJ",
        "outputId": "56afed39-2d2d-48a4-e866-3709afe216ed"
      },
      "execution_count": 36,
      "outputs": [
        {
          "output_type": "execute_result",
          "data": {
            "text/plain": [
              "<Order total: 42.00 due: 42.00>"
            ]
          },
          "metadata": {},
          "execution_count": 36
        }
      ]
    },
    {
      "cell_type": "code",
      "source": [
        "Order(joe, banana_cart, best_promo)"
      ],
      "metadata": {
        "colab": {
          "base_uri": "https://localhost:8080/"
        },
        "id": "16OBDPDseRYy",
        "outputId": "2f638572-e641-480a-ad97-4612ffd848f9"
      },
      "execution_count": 37,
      "outputs": [
        {
          "output_type": "execute_result",
          "data": {
            "text/plain": [
              "<Order total: 30.00 due: 28.50>"
            ]
          },
          "metadata": {},
          "execution_count": 37
        }
      ]
    },
    {
      "cell_type": "code",
      "source": [
        "Order(ann, cart, best_promo)"
      ],
      "metadata": {
        "colab": {
          "base_uri": "https://localhost:8080/"
        },
        "id": "Mi6oGHuMeTH5",
        "outputId": "11e85d7d-53b0-4d8f-8e10-1ffef9fddc69"
      },
      "execution_count": 38,
      "outputs": [
        {
          "output_type": "execute_result",
          "data": {
            "text/plain": [
              "<Order total: 42.00 due: 39.90>"
            ]
          },
          "metadata": {},
          "execution_count": 38
        }
      ]
    },
    {
      "cell_type": "code",
      "source": [
        "globals().keys()"
      ],
      "metadata": {
        "colab": {
          "base_uri": "https://localhost:8080/"
        },
        "id": "VQh6j8p2eWoh",
        "outputId": "f567940e-8f25-47fd-f39e-e0857ae3b0fc"
      },
      "execution_count": 39,
      "outputs": [
        {
          "output_type": "execute_result",
          "data": {
            "text/plain": [
              "dict_keys(['__name__', '__doc__', '__package__', '__loader__', '__spec__', '__builtin__', '__builtins__', '_ih', '_oh', '_dh', 'In', 'Out', 'get_ipython', 'exit', 'quit', '_', '__', '___', '_i', '_ii', '_iii', '_i1', 'ABC', 'abstractmethod', 'namedtuple', 'Customer', '_i2', 'park', '_2', '_i3', 'LineItem', '_i4', 'Order', '_i5', 'Promotion', '_i6', 'Fidelitypromo', 'BulkItemProme', 'LargeOrderPromo', '_i7', 'joe', 'ann', 'cart', '_i8', '_i9', '_i10', '_i11', '_i12', '_i13', '_i14', '_14', '_i15', '_i16', '_i17', '_17', '_i18', '_i19', '_19', '_i20', '_20', '_i21', 'banana_cart', '_21', '_i22', '_22', '_i23', 'long_order', '_23', '_i24', '_24', '_i25', '_i26', '_26', '_i27', '_i28', 'fidelity_promo', 'bulk_item_promo', 'large_order_promo', '_i29', '_29', '_i30', '_30', '_i31', '_31', '_i32', '_32', '_i33', 'promos', 'best_promo', '_i34', '_i35', '_i36', '_36', '_i37', '_37', '_i38', '_38', '_i39'])"
            ]
          },
          "metadata": {},
          "execution_count": 39
        }
      ]
    },
    {
      "cell_type": "code",
      "source": [
        "globals()['best_promo']"
      ],
      "metadata": {
        "colab": {
          "base_uri": "https://localhost:8080/",
          "height": 104
        },
        "id": "w0pJhmvMedaJ",
        "outputId": "64b32311-9101-4a84-8a2e-06e435902bec"
      },
      "execution_count": 41,
      "outputs": [
        {
          "output_type": "execute_result",
          "data": {
            "text/plain": [
              "<function __main__.best_promo(order)>"
            ],
            "text/html": [
              "<div style=\"max-width:800px; border: 1px solid var(--colab-border-color);\"><style>\n",
              "      pre.function-repr-contents {\n",
              "        overflow-x: auto;\n",
              "        padding: 8px 12px;\n",
              "        max-height: 500px;\n",
              "      }\n",
              "\n",
              "      pre.function-repr-contents.function-repr-contents-collapsed {\n",
              "        cursor: pointer;\n",
              "        max-height: 100px;\n",
              "      }\n",
              "    </style>\n",
              "    <pre style=\"white-space: initial; background:\n",
              "         var(--colab-secondary-surface-color); padding: 8px 12px;\n",
              "         border-bottom: 1px solid var(--colab-border-color);\"><b>best_promo</b><br/>def best_promo(order)</pre><pre class=\"function-repr-contents function-repr-contents-collapsed\" style=\"\"><a class=\"filepath\" style=\"display:none\" href=\"#\">/content/&lt;ipython-input-35-7771877db6f4&gt;</a>&lt;no docstring&gt;</pre></div>"
            ]
          },
          "metadata": {},
          "execution_count": 41
        }
      ]
    },
    {
      "cell_type": "code",
      "source": [
        "promos = [globals() [name] for name in globals()\n",
        "          if name.endswith('_promo')\n",
        "          and name != 'best_promo']\n",
        "promos"
      ],
      "metadata": {
        "colab": {
          "base_uri": "https://localhost:8080/"
        },
        "id": "7zHXvQlCefLB",
        "outputId": "0a20f8dc-c4e8-4846-c134-a681a32fa4b8"
      },
      "execution_count": 43,
      "outputs": [
        {
          "output_type": "execute_result",
          "data": {
            "text/plain": [
              "[<function __main__.fidelity_promo(order)>,\n",
              " <function __main__.bulk_item_promo(order)>,\n",
              " <function __main__.large_order_promo(order)>]"
            ]
          },
          "metadata": {},
          "execution_count": 43
        }
      ]
    },
    {
      "cell_type": "code",
      "source": [
        "def deco(func):\n",
        "  def inner():\n",
        "    print('running inner()')\n",
        "  return inner"
      ],
      "metadata": {
        "id": "4XWXHU36euD6"
      },
      "execution_count": 44,
      "outputs": []
    },
    {
      "cell_type": "code",
      "source": [
        "@deco\n",
        "def target():\n",
        "  print(\"running target()\")\n",
        "target()"
      ],
      "metadata": {
        "colab": {
          "base_uri": "https://localhost:8080/"
        },
        "id": "iPU9HeoJe3I6",
        "outputId": "a778bdcc-d005-4d5f-9271-3546468e55b5"
      },
      "execution_count": 46,
      "outputs": [
        {
          "output_type": "stream",
          "name": "stdout",
          "text": [
            "running inner()\n"
          ]
        }
      ]
    },
    {
      "cell_type": "code",
      "source": [
        "target"
      ],
      "metadata": {
        "colab": {
          "base_uri": "https://localhost:8080/",
          "height": 104
        },
        "id": "SUEQUSvoe8Ap",
        "outputId": "6f93ab4b-b5c4-477d-d492-d4967cbb2eb8"
      },
      "execution_count": 47,
      "outputs": [
        {
          "output_type": "execute_result",
          "data": {
            "text/plain": [
              "<function __main__.deco.<locals>.inner()>"
            ],
            "text/html": [
              "<div style=\"max-width:800px; border: 1px solid var(--colab-border-color);\"><style>\n",
              "      pre.function-repr-contents {\n",
              "        overflow-x: auto;\n",
              "        padding: 8px 12px;\n",
              "        max-height: 500px;\n",
              "      }\n",
              "\n",
              "      pre.function-repr-contents.function-repr-contents-collapsed {\n",
              "        cursor: pointer;\n",
              "        max-height: 100px;\n",
              "      }\n",
              "    </style>\n",
              "    <pre style=\"white-space: initial; background:\n",
              "         var(--colab-secondary-surface-color); padding: 8px 12px;\n",
              "         border-bottom: 1px solid var(--colab-border-color);\"><b>deco.&lt;locals&gt;.inner</b><br/>def inner()</pre><pre class=\"function-repr-contents function-repr-contents-collapsed\" style=\"\"><a class=\"filepath\" style=\"display:none\" href=\"#\">/content/&lt;ipython-input-44-c365867b0a97&gt;</a>&lt;no docstring&gt;</pre></div>"
            ]
          },
          "metadata": {},
          "execution_count": 47
        }
      ]
    },
    {
      "cell_type": "code",
      "source": [
        "registry = []\n",
        "\n",
        "def register(func):\n",
        "  print('running register(%s)' % func)\n",
        "  registry.append(func)\n",
        "  return func\n",
        "\n",
        "@register\n",
        "def f1():\n",
        "  print('running f1()')\n",
        "\n",
        "@register\n",
        "def f2():\n",
        "  print('running f2()')\n",
        "\n",
        "def f3():\n",
        "  print('running f3()')\n",
        "\n",
        "def main():\n",
        "  print('running main()')\n",
        "  print('registry ->', registry)\n",
        "  f1()\n",
        "  f2()\n",
        "  f3()\n",
        "\n",
        "if __name__ == '__main__':\n",
        "  main()"
      ],
      "metadata": {
        "colab": {
          "base_uri": "https://localhost:8080/"
        },
        "id": "Ls3u6gpre-sh",
        "outputId": "638223f4-7f27-4733-ef25-5f6200002024"
      },
      "execution_count": 50,
      "outputs": [
        {
          "output_type": "stream",
          "name": "stdout",
          "text": [
            "running register(<function f1 at 0x7a9c1a902cb0>)\n",
            "running register(<function f2 at 0x7a9c1a902ef0>)\n",
            "running main()\n",
            "registry -> [<function f1 at 0x7a9c1a902cb0>, <function f2 at 0x7a9c1a902ef0>]\n",
            "running f1()\n",
            "running f2()\n",
            "running f3()\n"
          ]
        }
      ]
    },
    {
      "cell_type": "code",
      "source": [
        "promos = []\n",
        "\n",
        "def promotion(promo_func):\n",
        "  promos.append(promo_func)\n",
        "  return promo_func\n",
        "\n",
        "@promotion\n",
        "def fidelity_promo(order):\n",
        "  return order.total() * 0.05 if order.customer.fidelity >= 1000 else 0\n",
        "\n",
        "@promotion\n",
        "def bulk_item_promo(order):\n",
        "  discount = 0\n",
        "  for item in order.cart:\n",
        "    if item.quantity >= 20:\n",
        "      discount += item.total() * 0.1\n",
        "  return discount\n",
        "\n",
        "@promotion\n",
        "def large_order_promo(order):\n",
        "  distinct_items = {item.product for item in order.cart}\n",
        "  if len(distinct_items) >= 10:\n",
        "    return order.total() * 0.07\n",
        "  return 0\n",
        "\n",
        "def best_promo(order):\n",
        "  return max(promo(order) for promo in promos)"
      ],
      "metadata": {
        "id": "MeDD0iG4gVSa"
      },
      "execution_count": 51,
      "outputs": []
    },
    {
      "cell_type": "code",
      "source": [
        "def f1(a):\n",
        "  print(a)\n",
        "  print(b)\n",
        "\n",
        "f1(3)"
      ],
      "metadata": {
        "colab": {
          "base_uri": "https://localhost:8080/",
          "height": 331
        },
        "id": "8AcQv1dcgW7T",
        "outputId": "ccea1760-64a7-4682-95c5-eac9466893a6"
      },
      "execution_count": 52,
      "outputs": [
        {
          "output_type": "stream",
          "name": "stdout",
          "text": [
            "3\n"
          ]
        },
        {
          "output_type": "error",
          "ename": "NameError",
          "evalue": "name 'b' is not defined",
          "traceback": [
            "\u001b[0;31m---------------------------------------------------------------------------\u001b[0m",
            "\u001b[0;31mNameError\u001b[0m                                 Traceback (most recent call last)",
            "\u001b[0;32m<ipython-input-52-d91d6586b140>\u001b[0m in \u001b[0;36m<cell line: 5>\u001b[0;34m()\u001b[0m\n\u001b[1;32m      3\u001b[0m   \u001b[0mprint\u001b[0m\u001b[0;34m(\u001b[0m\u001b[0mb\u001b[0m\u001b[0;34m)\u001b[0m\u001b[0;34m\u001b[0m\u001b[0;34m\u001b[0m\u001b[0m\n\u001b[1;32m      4\u001b[0m \u001b[0;34m\u001b[0m\u001b[0m\n\u001b[0;32m----> 5\u001b[0;31m \u001b[0mf1\u001b[0m\u001b[0;34m(\u001b[0m\u001b[0;36m3\u001b[0m\u001b[0;34m)\u001b[0m\u001b[0;34m\u001b[0m\u001b[0;34m\u001b[0m\u001b[0m\n\u001b[0m",
            "\u001b[0;32m<ipython-input-52-d91d6586b140>\u001b[0m in \u001b[0;36mf1\u001b[0;34m(a)\u001b[0m\n\u001b[1;32m      1\u001b[0m \u001b[0;32mdef\u001b[0m \u001b[0mf1\u001b[0m\u001b[0;34m(\u001b[0m\u001b[0ma\u001b[0m\u001b[0;34m)\u001b[0m\u001b[0;34m:\u001b[0m\u001b[0;34m\u001b[0m\u001b[0;34m\u001b[0m\u001b[0m\n\u001b[1;32m      2\u001b[0m   \u001b[0mprint\u001b[0m\u001b[0;34m(\u001b[0m\u001b[0ma\u001b[0m\u001b[0;34m)\u001b[0m\u001b[0;34m\u001b[0m\u001b[0;34m\u001b[0m\u001b[0m\n\u001b[0;32m----> 3\u001b[0;31m   \u001b[0mprint\u001b[0m\u001b[0;34m(\u001b[0m\u001b[0mb\u001b[0m\u001b[0;34m)\u001b[0m\u001b[0;34m\u001b[0m\u001b[0;34m\u001b[0m\u001b[0m\n\u001b[0m\u001b[1;32m      4\u001b[0m \u001b[0;34m\u001b[0m\u001b[0m\n\u001b[1;32m      5\u001b[0m \u001b[0mf1\u001b[0m\u001b[0;34m(\u001b[0m\u001b[0;36m3\u001b[0m\u001b[0;34m)\u001b[0m\u001b[0;34m\u001b[0m\u001b[0;34m\u001b[0m\u001b[0m\n",
            "\u001b[0;31mNameError\u001b[0m: name 'b' is not defined"
          ]
        }
      ]
    },
    {
      "cell_type": "code",
      "source": [
        "b = 6\n",
        "f1(3)"
      ],
      "metadata": {
        "colab": {
          "base_uri": "https://localhost:8080/"
        },
        "id": "xxK-eFCqgaXS",
        "outputId": "e874307d-e91e-4363-a5e2-131c625040d2"
      },
      "execution_count": 53,
      "outputs": [
        {
          "output_type": "stream",
          "name": "stdout",
          "text": [
            "3\n",
            "6\n"
          ]
        }
      ]
    },
    {
      "cell_type": "code",
      "source": [
        "b = 6\n",
        "def f2(a):\n",
        "  print(a)\n",
        "  print(b)\n",
        "  b = 9\n",
        "\n",
        "f2(3)"
      ],
      "metadata": {
        "colab": {
          "base_uri": "https://localhost:8080/",
          "height": 331
        },
        "id": "xASuRW2Hgc2K",
        "outputId": "dabc9af8-9a3f-421a-9f0d-0ec592c05f38"
      },
      "execution_count": 55,
      "outputs": [
        {
          "output_type": "stream",
          "name": "stdout",
          "text": [
            "3\n"
          ]
        },
        {
          "output_type": "error",
          "ename": "UnboundLocalError",
          "evalue": "local variable 'b' referenced before assignment",
          "traceback": [
            "\u001b[0;31m---------------------------------------------------------------------------\u001b[0m",
            "\u001b[0;31mUnboundLocalError\u001b[0m                         Traceback (most recent call last)",
            "\u001b[0;32m<ipython-input-55-d4afb2fc8eaa>\u001b[0m in \u001b[0;36m<cell line: 7>\u001b[0;34m()\u001b[0m\n\u001b[1;32m      5\u001b[0m   \u001b[0mb\u001b[0m \u001b[0;34m=\u001b[0m \u001b[0;36m9\u001b[0m\u001b[0;34m\u001b[0m\u001b[0;34m\u001b[0m\u001b[0m\n\u001b[1;32m      6\u001b[0m \u001b[0;34m\u001b[0m\u001b[0m\n\u001b[0;32m----> 7\u001b[0;31m \u001b[0mf2\u001b[0m\u001b[0;34m(\u001b[0m\u001b[0;36m3\u001b[0m\u001b[0;34m)\u001b[0m\u001b[0;34m\u001b[0m\u001b[0;34m\u001b[0m\u001b[0m\n\u001b[0m",
            "\u001b[0;32m<ipython-input-55-d4afb2fc8eaa>\u001b[0m in \u001b[0;36mf2\u001b[0;34m(a)\u001b[0m\n\u001b[1;32m      2\u001b[0m \u001b[0;32mdef\u001b[0m \u001b[0mf2\u001b[0m\u001b[0;34m(\u001b[0m\u001b[0ma\u001b[0m\u001b[0;34m)\u001b[0m\u001b[0;34m:\u001b[0m\u001b[0;34m\u001b[0m\u001b[0;34m\u001b[0m\u001b[0m\n\u001b[1;32m      3\u001b[0m   \u001b[0mprint\u001b[0m\u001b[0;34m(\u001b[0m\u001b[0ma\u001b[0m\u001b[0;34m)\u001b[0m\u001b[0;34m\u001b[0m\u001b[0;34m\u001b[0m\u001b[0m\n\u001b[0;32m----> 4\u001b[0;31m   \u001b[0mprint\u001b[0m\u001b[0;34m(\u001b[0m\u001b[0mb\u001b[0m\u001b[0;34m)\u001b[0m\u001b[0;34m\u001b[0m\u001b[0;34m\u001b[0m\u001b[0m\n\u001b[0m\u001b[1;32m      5\u001b[0m   \u001b[0mb\u001b[0m \u001b[0;34m=\u001b[0m \u001b[0;36m9\u001b[0m\u001b[0;34m\u001b[0m\u001b[0;34m\u001b[0m\u001b[0m\n\u001b[1;32m      6\u001b[0m \u001b[0;34m\u001b[0m\u001b[0m\n",
            "\u001b[0;31mUnboundLocalError\u001b[0m: local variable 'b' referenced before assignment"
          ]
        }
      ]
    },
    {
      "cell_type": "code",
      "source": [
        "b = 6\n",
        "def f3(a):\n",
        "  global b\n",
        "  print(a)\n",
        "  print(b)\n",
        "  b = 9\n",
        "\n",
        "f3(3)"
      ],
      "metadata": {
        "colab": {
          "base_uri": "https://localhost:8080/"
        },
        "id": "0JlnwgdWgi2C",
        "outputId": "90832049-757e-4dbb-fa7b-d4be01d08a06"
      },
      "execution_count": 58,
      "outputs": [
        {
          "output_type": "stream",
          "name": "stdout",
          "text": [
            "3\n",
            "6\n"
          ]
        }
      ]
    },
    {
      "cell_type": "code",
      "source": [
        "b"
      ],
      "metadata": {
        "colab": {
          "base_uri": "https://localhost:8080/"
        },
        "id": "dcB_ZTrugwji",
        "outputId": "45967191-e65c-4b73-b716-7326ce4c314e"
      },
      "execution_count": 60,
      "outputs": [
        {
          "output_type": "execute_result",
          "data": {
            "text/plain": [
              "9"
            ]
          },
          "metadata": {},
          "execution_count": 60
        }
      ]
    },
    {
      "cell_type": "code",
      "source": [
        "f3(3)"
      ],
      "metadata": {
        "colab": {
          "base_uri": "https://localhost:8080/"
        },
        "id": "VrcRLx4oglNC",
        "outputId": "2512a626-f959-47e6-95ed-1a29e19824e4"
      },
      "execution_count": 59,
      "outputs": [
        {
          "output_type": "stream",
          "name": "stdout",
          "text": [
            "3\n",
            "9\n"
          ]
        }
      ]
    },
    {
      "cell_type": "code",
      "source": [
        "b= 30\n",
        "f3(3)"
      ],
      "metadata": {
        "colab": {
          "base_uri": "https://localhost:8080/"
        },
        "id": "00uk0L6Ygnni",
        "outputId": "fca048f3-7bec-4744-e1aa-2f266384475b"
      },
      "execution_count": 61,
      "outputs": [
        {
          "output_type": "stream",
          "name": "stdout",
          "text": [
            "3\n",
            "30\n"
          ]
        }
      ]
    },
    {
      "cell_type": "code",
      "source": [
        "class Averager():\n",
        "  def __init__(self):\n",
        "    self.series = []\n",
        "\n",
        "  def __call__(self, new_value):\n",
        "    self.series.append(new_value)\n",
        "    total = sum(self.series)\n",
        "    return total/len(self.series)"
      ],
      "metadata": {
        "id": "bY8_c_Ymg7wC"
      },
      "execution_count": 63,
      "outputs": []
    },
    {
      "cell_type": "code",
      "source": [
        "avg = Averager()\n",
        "avg(10)"
      ],
      "metadata": {
        "colab": {
          "base_uri": "https://localhost:8080/"
        },
        "id": "wfEemcvmg93S",
        "outputId": "bec90e8f-74d4-4657-d76c-dbb9326940ae"
      },
      "execution_count": 64,
      "outputs": [
        {
          "output_type": "execute_result",
          "data": {
            "text/plain": [
              "10.0"
            ]
          },
          "metadata": {},
          "execution_count": 64
        }
      ]
    },
    {
      "cell_type": "code",
      "source": [
        "avg(11)"
      ],
      "metadata": {
        "colab": {
          "base_uri": "https://localhost:8080/"
        },
        "id": "8tAQvF0DhAzy",
        "outputId": "d560b243-0dd4-45d0-8448-8ac084f9d55e"
      },
      "execution_count": 65,
      "outputs": [
        {
          "output_type": "execute_result",
          "data": {
            "text/plain": [
              "10.5"
            ]
          },
          "metadata": {},
          "execution_count": 65
        }
      ]
    },
    {
      "cell_type": "code",
      "source": [
        "avg(12)"
      ],
      "metadata": {
        "colab": {
          "base_uri": "https://localhost:8080/"
        },
        "id": "5J-t1XfnhB4y",
        "outputId": "11a8b5a1-a88e-4fe1-9a18-bbb137fcd310"
      },
      "execution_count": 66,
      "outputs": [
        {
          "output_type": "execute_result",
          "data": {
            "text/plain": [
              "11.0"
            ]
          },
          "metadata": {},
          "execution_count": 66
        }
      ]
    },
    {
      "cell_type": "code",
      "source": [
        "def make_averger():\n",
        "  series = []\n",
        "\n",
        "  def averager(new_value):\n",
        "    series.append(new_value)\n",
        "    total = sum(series)\n",
        "    return total/len(series)\n",
        "  return averager"
      ],
      "metadata": {
        "id": "lSwq11TOhCxS"
      },
      "execution_count": 67,
      "outputs": []
    },
    {
      "cell_type": "code",
      "source": [
        "avg = make_averger()\n",
        "avg(10)"
      ],
      "metadata": {
        "colab": {
          "base_uri": "https://localhost:8080/"
        },
        "id": "VK0N9JOuhO65",
        "outputId": "0950237f-abde-4146-a204-505419ec865a"
      },
      "execution_count": 68,
      "outputs": [
        {
          "output_type": "execute_result",
          "data": {
            "text/plain": [
              "10.0"
            ]
          },
          "metadata": {},
          "execution_count": 68
        }
      ]
    },
    {
      "cell_type": "code",
      "source": [
        "avg(11)"
      ],
      "metadata": {
        "colab": {
          "base_uri": "https://localhost:8080/"
        },
        "id": "aMiVKVDvhRA6",
        "outputId": "7d8fb8f9-0eac-4e3c-f1ce-b0ca95976ab6"
      },
      "execution_count": 69,
      "outputs": [
        {
          "output_type": "execute_result",
          "data": {
            "text/plain": [
              "10.5"
            ]
          },
          "metadata": {},
          "execution_count": 69
        }
      ]
    },
    {
      "cell_type": "code",
      "source": [
        "avg(12)"
      ],
      "metadata": {
        "colab": {
          "base_uri": "https://localhost:8080/"
        },
        "id": "s2ZVgTAYhRra",
        "outputId": "5634514d-37af-48b0-f901-eefc717b3787"
      },
      "execution_count": 70,
      "outputs": [
        {
          "output_type": "execute_result",
          "data": {
            "text/plain": [
              "11.0"
            ]
          },
          "metadata": {},
          "execution_count": 70
        }
      ]
    },
    {
      "cell_type": "code",
      "source": [
        "avg.__code__.co_varnames"
      ],
      "metadata": {
        "colab": {
          "base_uri": "https://localhost:8080/"
        },
        "id": "waHdWPXzhSgC",
        "outputId": "29a52fdb-2145-4d2e-95af-c8e42ccfeec1"
      },
      "execution_count": 71,
      "outputs": [
        {
          "output_type": "execute_result",
          "data": {
            "text/plain": [
              "('new_value', 'total')"
            ]
          },
          "metadata": {},
          "execution_count": 71
        }
      ]
    },
    {
      "cell_type": "code",
      "source": [
        "avg.__code__.co_freevars"
      ],
      "metadata": {
        "colab": {
          "base_uri": "https://localhost:8080/"
        },
        "id": "agNSF57khWay",
        "outputId": "8bec74aa-926a-4234-a042-12fa875a274e"
      },
      "execution_count": 72,
      "outputs": [
        {
          "output_type": "execute_result",
          "data": {
            "text/plain": [
              "('series',)"
            ]
          },
          "metadata": {},
          "execution_count": 72
        }
      ]
    },
    {
      "cell_type": "code",
      "source": [
        "avg.__closure__"
      ],
      "metadata": {
        "colab": {
          "base_uri": "https://localhost:8080/"
        },
        "id": "1lwxFT7VhZ3S",
        "outputId": "a0bb7c32-abaf-4d09-bc30-86211ab6e4e8"
      },
      "execution_count": 73,
      "outputs": [
        {
          "output_type": "execute_result",
          "data": {
            "text/plain": [
              "(<cell at 0x7a9c1b14e230: list object at 0x7a9c1aa51500>,)"
            ]
          },
          "metadata": {},
          "execution_count": 73
        }
      ]
    },
    {
      "cell_type": "code",
      "source": [
        "avg.__closure__[0].cell_contents"
      ],
      "metadata": {
        "colab": {
          "base_uri": "https://localhost:8080/"
        },
        "id": "9F0JyM4rhbsi",
        "outputId": "c0f83a87-bfda-4f50-b4b4-dccc860b66bc"
      },
      "execution_count": 74,
      "outputs": [
        {
          "output_type": "execute_result",
          "data": {
            "text/plain": [
              "[10, 11, 12]"
            ]
          },
          "metadata": {},
          "execution_count": 74
        }
      ]
    },
    {
      "cell_type": "code",
      "source": [
        "def make_averger():\n",
        "  count = 0\n",
        "  total = 0\n",
        "\n",
        "  def averager(new_value):\n",
        "    count += 1\n",
        "    total += new_value\n",
        "    return total / count\n",
        "  return averager"
      ],
      "metadata": {
        "id": "ef_pRR9IhdVq"
      },
      "execution_count": 75,
      "outputs": []
    },
    {
      "cell_type": "code",
      "source": [
        "avg = make_averger()\n",
        "avg(10)"
      ],
      "metadata": {
        "colab": {
          "base_uri": "https://localhost:8080/",
          "height": 294
        },
        "id": "GBVBgJXchggq",
        "outputId": "56cf19fb-4c01-4961-f361-63b728d08a12"
      },
      "execution_count": 76,
      "outputs": [
        {
          "output_type": "error",
          "ename": "UnboundLocalError",
          "evalue": "local variable 'count' referenced before assignment",
          "traceback": [
            "\u001b[0;31m---------------------------------------------------------------------------\u001b[0m",
            "\u001b[0;31mUnboundLocalError\u001b[0m                         Traceback (most recent call last)",
            "\u001b[0;32m<ipython-input-76-ddc7efb9cf11>\u001b[0m in \u001b[0;36m<cell line: 2>\u001b[0;34m()\u001b[0m\n\u001b[1;32m      1\u001b[0m \u001b[0mavg\u001b[0m \u001b[0;34m=\u001b[0m \u001b[0mmake_averger\u001b[0m\u001b[0;34m(\u001b[0m\u001b[0;34m)\u001b[0m\u001b[0;34m\u001b[0m\u001b[0;34m\u001b[0m\u001b[0m\n\u001b[0;32m----> 2\u001b[0;31m \u001b[0mavg\u001b[0m\u001b[0;34m(\u001b[0m\u001b[0;36m10\u001b[0m\u001b[0;34m)\u001b[0m\u001b[0;34m\u001b[0m\u001b[0;34m\u001b[0m\u001b[0m\n\u001b[0m",
            "\u001b[0;32m<ipython-input-75-0ce0fb8d995f>\u001b[0m in \u001b[0;36maverager\u001b[0;34m(new_value)\u001b[0m\n\u001b[1;32m      4\u001b[0m \u001b[0;34m\u001b[0m\u001b[0m\n\u001b[1;32m      5\u001b[0m   \u001b[0;32mdef\u001b[0m \u001b[0maverager\u001b[0m\u001b[0;34m(\u001b[0m\u001b[0mnew_value\u001b[0m\u001b[0;34m)\u001b[0m\u001b[0;34m:\u001b[0m\u001b[0;34m\u001b[0m\u001b[0;34m\u001b[0m\u001b[0m\n\u001b[0;32m----> 6\u001b[0;31m     \u001b[0mcount\u001b[0m \u001b[0;34m+=\u001b[0m \u001b[0;36m1\u001b[0m\u001b[0;34m\u001b[0m\u001b[0;34m\u001b[0m\u001b[0m\n\u001b[0m\u001b[1;32m      7\u001b[0m     \u001b[0mtotal\u001b[0m \u001b[0;34m+=\u001b[0m \u001b[0mnew_value\u001b[0m\u001b[0;34m\u001b[0m\u001b[0;34m\u001b[0m\u001b[0m\n\u001b[1;32m      8\u001b[0m     \u001b[0;32mreturn\u001b[0m \u001b[0mtotal\u001b[0m \u001b[0;34m/\u001b[0m \u001b[0mcount\u001b[0m\u001b[0;34m\u001b[0m\u001b[0;34m\u001b[0m\u001b[0m\n",
            "\u001b[0;31mUnboundLocalError\u001b[0m: local variable 'count' referenced before assignment"
          ]
        }
      ]
    },
    {
      "cell_type": "code",
      "source": [
        "def make_averger():\n",
        "  count = 0\n",
        "  total = 0\n",
        "\n",
        "  def averager(new_value):\n",
        "    nonlocal count, total\n",
        "    count += 1\n",
        "    total += new_value\n",
        "    return total / count\n",
        "  return averager"
      ],
      "metadata": {
        "id": "DJaHOe_BhpPz"
      },
      "execution_count": 77,
      "outputs": []
    },
    {
      "cell_type": "code",
      "source": [
        "avg = make_averger()\n",
        "avg(10)"
      ],
      "metadata": {
        "colab": {
          "base_uri": "https://localhost:8080/"
        },
        "id": "kCbZiMR4hqAa",
        "outputId": "1545a6fe-5e20-49e6-ac2b-504e67bf6af3"
      },
      "execution_count": 79,
      "outputs": [
        {
          "output_type": "execute_result",
          "data": {
            "text/plain": [
              "10.0"
            ]
          },
          "metadata": {},
          "execution_count": 79
        }
      ]
    },
    {
      "cell_type": "code",
      "source": [
        "import time\n",
        "\n",
        "def clock(func):\n",
        "  def clocked(*args):\n",
        "    t0 = time.perf_counter()\n",
        "    result = func(*args)\n",
        "    elapsed = time.perf_counter() - t0\n",
        "    name = func.__name__\n",
        "    arg_str = ', '.join(repr(arg) for arg in args)\n",
        "    print('[%0.8fs] %s(%s) -> %r' % (elapsed, name, arg_str, result))\n",
        "    return result\n",
        "  return clocked"
      ],
      "metadata": {
        "id": "6uH0g8VJh1Lj"
      },
      "execution_count": 80,
      "outputs": []
    },
    {
      "cell_type": "code",
      "source": [
        "@clock\n",
        "def snooze(seconds):\n",
        "  time.sleep(seconds)\n",
        "\n",
        "@clock\n",
        "def factorial(n):\n",
        "  return 1 if n < 2 else n*factorial(n-1)\n",
        "\n",
        "if __name__ == '__main__':\n",
        "  print('*'*40, 'Calling snooze(.123)')\n",
        "  snooze(.123)\n",
        "  print('*'*40, 'Calling factorial(6)')\n",
        "  print('6! =', factorial(6))"
      ],
      "metadata": {
        "colab": {
          "base_uri": "https://localhost:8080/"
        },
        "id": "vPtwj5eVh_FS",
        "outputId": "96a1887e-d292-408d-b5ed-495dfac602fd"
      },
      "execution_count": 82,
      "outputs": [
        {
          "output_type": "stream",
          "name": "stdout",
          "text": [
            "**************************************** Calling snooze(.123)\n",
            "[0.12316064s] snooze(0.123) -> None\n",
            "**************************************** Calling factorial(6)\n",
            "[0.00000077s] factorial(1) -> 1\n",
            "[0.00002864s] factorial(2) -> 2\n",
            "[0.00004947s] factorial(3) -> 6\n",
            "[0.00006966s] factorial(4) -> 24\n",
            "[0.00009883s] factorial(5) -> 120\n",
            "[0.00012062s] factorial(6) -> 720\n",
            "6! = 720\n"
          ]
        }
      ]
    },
    {
      "cell_type": "code",
      "source": [
        "factorial.__name__"
      ],
      "metadata": {
        "colab": {
          "base_uri": "https://localhost:8080/",
          "height": 35
        },
        "id": "rWIqjgvsiEJy",
        "outputId": "a2313447-ab5b-4207-f7d0-c0f08f43a450"
      },
      "execution_count": 85,
      "outputs": [
        {
          "output_type": "execute_result",
          "data": {
            "text/plain": [
              "'clocked'"
            ],
            "application/vnd.google.colaboratory.intrinsic+json": {
              "type": "string"
            }
          },
          "metadata": {},
          "execution_count": 85
        }
      ]
    },
    {
      "cell_type": "code",
      "source": [
        "import time\n",
        "import functools\n",
        "\n",
        "def clock(func):\n",
        "  @functools.wraps(func)\n",
        "  def clocked(*args, **kwargs):\n",
        "    t0 = time.time()\n",
        "    result = func(*args, **kwargs)\n",
        "    elapsed = time.time() - t0\n",
        "    arg_lst = []\n",
        "    name = func.__name__\n",
        "    if args:\n",
        "      arg_lst.append(', '.join(repr(arg) for arg in args))\n",
        "    if kwargs:\n",
        "      pairs = ['%s=%r' % (k, w) for k, w in sorted(kwargs.items())]\n",
        "      arg_lst.append(', '.join(pairs))\n",
        "    arg_str = ', '.join(arg_lst)\n",
        "    print('[%0.8fs] %s(%s) -> %r' % (elapsed, name, arg_str, result))\n",
        "    return result\n",
        "  return clocked"
      ],
      "metadata": {
        "id": "ZEHEusGkidsm"
      },
      "execution_count": 86,
      "outputs": []
    },
    {
      "cell_type": "code",
      "source": [
        "@clock\n",
        "def snooze(seconds):\n",
        "  time.sleep(seconds)\n",
        "\n",
        "@clock\n",
        "def factorial(n):\n",
        "  return 1 if n < 2 else n*factorial(n-1)\n",
        "\n",
        "if __name__ == '__main__':\n",
        "  print('*'*40, 'Calling snooze(.123)')\n",
        "  snooze(.123)\n",
        "  print('*'*40, 'Calling factorial(6)')\n",
        "  print('6! =', factorial(6))"
      ],
      "metadata": {
        "colab": {
          "base_uri": "https://localhost:8080/"
        },
        "id": "0FKwpjsnismC",
        "outputId": "cd198a97-9aaf-4659-811f-6f521347d0ee"
      },
      "execution_count": 88,
      "outputs": [
        {
          "output_type": "stream",
          "name": "stdout",
          "text": [
            "**************************************** Calling snooze(.123)\n",
            "[0.12316561s] snooze(0.123) -> None\n",
            "**************************************** Calling factorial(6)\n",
            "[0.00000095s] factorial(1) -> 1\n",
            "[0.00003552s] factorial(2) -> 2\n",
            "[0.00006080s] factorial(3) -> 6\n",
            "[0.00010371s] factorial(4) -> 24\n",
            "[0.00013232s] factorial(5) -> 120\n",
            "[0.00016379s] factorial(6) -> 720\n",
            "6! = 720\n"
          ]
        }
      ]
    },
    {
      "cell_type": "code",
      "source": [
        "factorial.__name__"
      ],
      "metadata": {
        "colab": {
          "base_uri": "https://localhost:8080/",
          "height": 35
        },
        "id": "1VhQy1mFitly",
        "outputId": "84666081-c21c-4def-e67e-4099405c2863"
      },
      "execution_count": 90,
      "outputs": [
        {
          "output_type": "execute_result",
          "data": {
            "text/plain": [
              "'factorial'"
            ],
            "application/vnd.google.colaboratory.intrinsic+json": {
              "type": "string"
            }
          },
          "metadata": {},
          "execution_count": 90
        }
      ]
    }
  ]
}